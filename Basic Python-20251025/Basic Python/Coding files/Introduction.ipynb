{
 "cells": [
  {
   "cell_type": "code",
   "execution_count": 11,
   "id": "15da95fd-920c-44b5-8fc1-691bc5b22813",
   "metadata": {},
   "outputs": [
    {
     "name": "stdout",
     "output_type": "stream",
     "text": [
      "10\n",
      "25.5\n",
      "python\n",
      "100\n"
     ]
    }
   ],
   "source": [
    "a = 10\n",
    "b = 15.5\n",
    "print (a) # 10\n",
    "print (a+b)\n",
    "\n",
    "a = 'python'\n",
    "\n",
    "print (a)\n",
    "\n",
    "x = 100\n",
    "y = 200\n",
    "print (y-x)"
   ]
  },
  {
   "cell_type": "markdown",
   "id": "92a77c77-0e5e-412d-9fe6-a07cf62012d9",
   "metadata": {},
   "source": [
    "# chapter-1"
   ]
  },
  {
   "cell_type": "raw",
   "id": "51cb1d78-e102-4930-89ca-2e6332bd88dc",
   "metadata": {},
   "source": [
    "# Python is a simple language\n",
    "# python execute through interpreter"
   ]
  },
  {
   "cell_type": "code",
   "execution_count": 14,
   "id": "2f6a3bec-d1ae-40a9-8d98-5685788d9c92",
   "metadata": {},
   "outputs": [
    {
     "name": "stdout",
     "output_type": "stream",
     "text": [
      "85.0\n"
     ]
    }
   ],
   "source": [
    "print (y-b)"
   ]
  },
  {
   "cell_type": "code",
   "execution_count": 12,
   "id": "42948ae8-a791-43ca-aadb-acaa54eca3eb",
   "metadata": {},
   "outputs": [],
   "source": [
    "y = 100.5"
   ]
  },
  {
   "cell_type": "code",
   "execution_count": 13,
   "id": "d4da82da-023c-4be6-8317-967db4bedfb7",
   "metadata": {},
   "outputs": [
    {
     "name": "stdout",
     "output_type": "stream",
     "text": [
      "85.0\n"
     ]
    }
   ],
   "source": [
    "print (y-b)"
   ]
  },
  {
   "cell_type": "code",
   "execution_count": 15,
   "id": "3bd309d8-23f5-45b5-8fb1-912f74dc8a76",
   "metadata": {},
   "outputs": [
    {
     "name": "stdout",
     "output_type": "stream",
     "text": [
      "python\n"
     ]
    }
   ],
   "source": [
    "name = \"python\"\n",
    "print (name)"
   ]
  },
  {
   "cell_type": "code",
   "execution_count": null,
   "id": "3aca47e5-a983-40db-9d55-a2d77870128b",
   "metadata": {},
   "outputs": [],
   "source": []
  }
 ],
 "metadata": {
  "kernelspec": {
   "display_name": "Python [conda env:base] *",
   "language": "python",
   "name": "conda-base-py"
  },
  "language_info": {
   "codemirror_mode": {
    "name": "ipython",
    "version": 3
   },
   "file_extension": ".py",
   "mimetype": "text/x-python",
   "name": "python",
   "nbconvert_exporter": "python",
   "pygments_lexer": "ipython3",
   "version": "3.12.7"
  }
 },
 "nbformat": 4,
 "nbformat_minor": 5
}
