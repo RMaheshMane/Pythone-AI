{
 "cells": [
  {
   "cell_type": "markdown",
   "id": "079c8eaa-5da2-4510-86fa-90ab7719c2e6",
   "metadata": {},
   "source": [
    "# variables: Storing data\n"
   ]
  },
  {
   "cell_type": "code",
   "execution_count": 3,
   "id": "460c9ab1-1f60-4d0d-a490-e200f1f04717",
   "metadata": {},
   "outputs": [],
   "source": [
    "# - Commenting \n",
    "# Types of variables: \n",
    "#1. Assign \n",
    "# 2. User-defined variable"
   ]
  },
  {
   "cell_type": "code",
   "execution_count": 4,
   "id": "937042be-daf5-4b14-a766-8b34048a1caa",
   "metadata": {},
   "outputs": [],
   "source": [
    "# 1. Assign variables\n",
    "a =10\n",
    "pi = 3.14\n",
    "usd = 88\n"
   ]
  },
  {
   "cell_type": "code",
   "execution_count": 5,
   "id": "f2175677-c49a-4ddd-b0fd-708170ed4a02",
   "metadata": {},
   "outputs": [],
   "source": [
    "# 2. User-defined variable"
   ]
  },
  {
   "cell_type": "code",
   "execution_count": 10,
   "id": "ec264f1a-3d0b-4e8b-af07-2bce02680134",
   "metadata": {},
   "outputs": [
    {
     "name": "stdin",
     "output_type": "stream",
     "text": [
      "Enter your name: Harsha\n",
      "Enter your age: 37\n",
      "Enter your weight 85\n"
     ]
    },
    {
     "name": "stdout",
     "output_type": "stream",
     "text": [
      "Harsha 37 85.0\n"
     ]
    }
   ],
   "source": [
    "name = input('Enter your name:') # string format\n",
    "age = int(input('Enter your age:')) # taking input in int format # type casting\n",
    "weight = float(input('Enter your weight')) # taking input in float format\n",
    "\n",
    "print (name, age, weight)\n"
   ]
  },
  {
   "cell_type": "code",
   "execution_count": 11,
   "id": "801b6763-437d-4ac9-89d2-4df9a0cde84a",
   "metadata": {},
   "outputs": [],
   "source": [
    "# global variables and local variables"
   ]
  },
  {
   "cell_type": "code",
   "execution_count": 13,
   "id": "14e75c54-91c1-43fe-8fa6-83fa46ccb02b",
   "metadata": {},
   "outputs": [
    {
     "name": "stdout",
     "output_type": "stream",
     "text": [
      "88\n"
     ]
    }
   ],
   "source": [
    "print (usd)"
   ]
  },
  {
   "cell_type": "code",
   "execution_count": 14,
   "id": "dff754ee-a48c-4f37-b0ff-88160275d7f3",
   "metadata": {},
   "outputs": [
    {
     "name": "stdout",
     "output_type": "stream",
     "text": [
      "Harsha\n"
     ]
    }
   ],
   "source": [
    "print (name)"
   ]
  },
  {
   "cell_type": "code",
   "execution_count": 16,
   "id": "36d4f205-6a10-4bab-b4cb-4f4329172cdc",
   "metadata": {},
   "outputs": [],
   "source": [
    "def temp_conversion(temp):\n",
    "    temp =102 # local to this function\n",
    "    res = (temp-32)*(5/9)\n",
    "    return res"
   ]
  },
  {
   "cell_type": "code",
   "execution_count": null,
   "id": "51dc52ef-0ebb-4a75-b735-1ee0ba7053e9",
   "metadata": {},
   "outputs": [],
   "source": []
  },
  {
   "cell_type": "code",
   "execution_count": null,
   "id": "4da719f5-110e-40c0-b434-c54da3c0da21",
   "metadata": {},
   "outputs": [],
   "source": []
  },
  {
   "cell_type": "code",
   "execution_count": null,
   "id": "1abb7d1c-7a0e-4eec-b4ff-72da3c4fcf8f",
   "metadata": {},
   "outputs": [],
   "source": []
  },
  {
   "cell_type": "code",
   "execution_count": null,
   "id": "5596d4e7-8b21-4544-84d4-622abd3b6019",
   "metadata": {},
   "outputs": [],
   "source": []
  },
  {
   "cell_type": "code",
   "execution_count": null,
   "id": "20fb4fc4-79c2-4972-b30c-1bd4ca6a2308",
   "metadata": {},
   "outputs": [],
   "source": []
  },
  {
   "cell_type": "code",
   "execution_count": null,
   "id": "7b4330c1-b87c-4ffe-b192-359e8494a240",
   "metadata": {},
   "outputs": [],
   "source": []
  },
  {
   "cell_type": "code",
   "execution_count": 17,
   "id": "6367dc3d-01b3-4024-ac6a-196e453f1e65",
   "metadata": {},
   "outputs": [
    {
     "ename": "NameError",
     "evalue": "name 'temp' is not defined",
     "output_type": "error",
     "traceback": [
      "\u001b[1;31m---------------------------------------------------------------------------\u001b[0m",
      "\u001b[1;31mNameError\u001b[0m                                 Traceback (most recent call last)",
      "Cell \u001b[1;32mIn[17], line 1\u001b[0m\n\u001b[1;32m----> 1\u001b[0m temp\n",
      "\u001b[1;31mNameError\u001b[0m: name 'temp' is not defined"
     ]
    }
   ],
   "source": [
    "temp"
   ]
  },
  {
   "cell_type": "code",
   "execution_count": 15,
   "id": "2195943a-c686-45e6-b2e7-e4ccb9ad39c0",
   "metadata": {},
   "outputs": [
    {
     "name": "stdout",
     "output_type": "stream",
     "text": [
      "37\n"
     ]
    }
   ],
   "source": [
    "print(age)"
   ]
  },
  {
   "cell_type": "code",
   "execution_count": null,
   "id": "85a17ccb-cd4d-4bbb-b4e3-43617dcce882",
   "metadata": {},
   "outputs": [],
   "source": []
  }
 ],
 "metadata": {
  "kernelspec": {
   "display_name": "Python [conda env:base] *",
   "language": "python",
   "name": "conda-base-py"
  },
  "language_info": {
   "codemirror_mode": {
    "name": "ipython",
    "version": 3
   },
   "file_extension": ".py",
   "mimetype": "text/x-python",
   "name": "python",
   "nbconvert_exporter": "python",
   "pygments_lexer": "ipython3",
   "version": "3.12.7"
  }
 },
 "nbformat": 4,
 "nbformat_minor": 5
}
